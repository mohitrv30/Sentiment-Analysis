{
 "cells": [
  {
   "cell_type": "markdown",
   "metadata": {},
   "source": [
    "# Import Libraries"
   ]
  },
  {
   "cell_type": "code",
   "execution_count": null,
   "metadata": {},
   "outputs": [],
   "source": [
    "from time import sleep\n",
    "import requests\n",
    "import time\n",
    "import selenium\n",
    "from parsel import Selector\n",
    "from selenium import webdriver as wd\n",
    "from selenium.webdriver.common.keys import Keys\n",
    "import csv\n",
    "import pandas as pd"
   ]
  },
  {
   "cell_type": "markdown",
   "metadata": {},
   "source": [
    "# Functions to scrape various elements"
   ]
  },
  {
   "cell_type": "code",
   "execution_count": 2,
   "metadata": {},
   "outputs": [],
   "source": [
    "def get_review(element):\n",
    "    global review\n",
    "    try:\n",
    "        review = element.find_element_by_xpath(\"./div[3]/p[2]\").text\n",
    "    except selenium.common.exceptions.NoSuchElementException:\n",
    "        return False\n",
    "    return review\n",
    "####################\n",
    "\n",
    "def get_rating(element):\n",
    "    global rating\n",
    "    try:\n",
    "        rating = element.find_element_by_xpath(\"./div[1]/div/img\").get_attribute(\"data-rating\")\n",
    "        #print(rating)\n",
    "    except selenium.common.exceptions.NoSuchElementException:\n",
    "        return 0\n",
    "    return rating\n",
    "########################  \n",
    "\n",
    "def get_custinfo(element):\n",
    "    global cust_info\n",
    "    try:\n",
    "        cust_info = element.find_element_by_xpath(\"./div[2]/div[2]/strong[1]\").text\n",
    "        #print(rating)\n",
    "    except selenium.common.exceptions.NoSuchElementException:\n",
    "        return 'NA'\n",
    "    return cust_info\n",
    "#####################\n",
    "\n",
    "def get_no_of_people(element):\n",
    "    global no_people\n",
    "    try:\n",
    "        no_people = element.find_element_by_xpath(\"./div[4]/span/strong\").text\n",
    "        #print(rating)\n",
    "    except selenium.common.exceptions.NoSuchElementException:\n",
    "        return '0'\n",
    "    return no_people\n",
    "#####################\n",
    "\n",
    "def get_date(element):\n",
    "    global dte\n",
    "    try:\n",
    "        dte = element.find_element_by_xpath(\"./div[3]/span\").text\n",
    "        #print(rating)\n",
    "    except selenium.common.exceptions.NoSuchElementException:\n",
    "        return '0'\n",
    "    return dte\n",
    "#########################\n",
    "\n",
    "def go_to_next_page():\n",
    "    \n",
    "    href = browser.find_element_by_xpath(\"//a[@class = 'ca-a-md ca-a-uprcs ca-a-blk prf-pgr__nxt js-pager-next']\").get_attribute(\"href\")\n",
    "    #print('Going to {href}')\n",
    "    browser.get(href)\n",
    "#########################\n",
    "\n",
    "def has_next_page():\n",
    "    \n",
    "    try:\n",
    "        boo = browser.find_element_by_xpath(\"//a[@class = 'ca-a-md ca-a-uprcs ca-a-blk prf-pgr__nxt js-pager-next']\")\n",
    "        return True\n",
    "    \n",
    "    except selenium.common.exceptions.NoSuchElementException:\n",
    "        return False\n",
    "    "
   ]
  },
  {
   "cell_type": "markdown",
   "metadata": {},
   "source": [
    "# Calling an instance of browser through Selenium and scraping the data automatically"
   ]
  },
  {
   "cell_type": "code",
   "execution_count": 3,
   "metadata": {},
   "outputs": [],
   "source": [
    "def get_browser():\n",
    "    chrome_options = wd.ChromeOptions()\n",
    "    browser = wd.Chrome(executable_path='C:/Users/yogilla/Desktop/College_Course/Data Management Project/chromedriver_win32/chromedriver.exe',options=chrome_options)\n",
    "    return browser\n",
    "browser = get_browser()\n",
    "######################\n",
    "\n",
    "def main():\n",
    "   \n",
    "    main_list = []\n",
    "    rating_list =[]\n",
    "    cust_nameList=[]\n",
    "    cust_stateList =[]\n",
    "    people_noList=[]\n",
    "    dateList = []\n",
    "    browser.get(\"https://www.consumeraffairs.com/insurance/kaiser.html\")        #directs to the desired site \n",
    "    \n",
    "    flag = 1\n",
    "    while(flag == 1):\n",
    "        \n",
    "        #print('im in')\n",
    "        review_cards = browser.find_elements_by_xpath(\"//div[contains(@class,'js-rvw')]\")  #this xpath is customized (see bottom of the file) \n",
    "        for i in range(len(review_cards)):\n",
    "                #print(i)\n",
    "            review = get_review(review_cards[i])\n",
    "            rating = get_rating(review_cards[i])\n",
    "            cust_info = get_custinfo(review_cards[i])\n",
    "            no_people = get_no_of_people(review_cards[i])\n",
    "            dte = get_date(review_cards[i])\n",
    "            #print(cust_info)\n",
    "            main_list.append([review])\n",
    "            rating_list.append([rating])\n",
    "            people_noList.append([no_people])\n",
    "            \n",
    "            if dte == '0':\n",
    "                dateList.append('0')\n",
    "            else:\n",
    "                dateList.append(dte.split(': ')[1])\n",
    "            if cust_info != 'NA':\n",
    "                cust_split =cust_info.split('of') \n",
    "                cust_nameList.append(cust_split[0])\n",
    "                cust_stateList.append(cust_split[1])\n",
    "            else:\n",
    "                cust_nameList.append('NAAA')\n",
    "                cust_stateList.append('NAAA')\n",
    "        if has_next_page():\n",
    "            go_to_next_page()\n",
    "\n",
    "        else:\n",
    "            flag = 0\n",
    "\n",
    "    d = {'Review':main_list,'Rating':rating_list,'Name':cust_nameList,'Address':cust_stateList, 'Num of People' : people_noList, 'Date':dateList}\n",
    "    df = pd.DataFrame(d)\n",
    "    \n",
    "    df.to_csv(\"reviews1.csv\",mode ='a',index = True,header = True)\n",
    "    #print(df)    \n",
    "    \n",
    "if __name__ == '__main__':\n",
    "    main()\n",
    "\n"
   ]
  },
  {
   "cell_type": "raw",
   "metadata": {},
   "source": [
    "To customize an xpath, find the main class under which the desired content lies, followed by the unique identifier (i.e. class, name, id etc), followed by the unique value associated with it (something like 'adefg' or 'js-rvw' & so on)"
   ]
  },
  {
   "cell_type": "code",
   "execution_count": null,
   "metadata": {},
   "outputs": [],
   "source": []
  }
 ],
 "metadata": {
  "kernelspec": {
   "display_name": "Python 3",
   "language": "python",
   "name": "python3"
  },
  "language_info": {
   "codemirror_mode": {
    "name": "ipython",
    "version": 3
   },
   "file_extension": ".py",
   "mimetype": "text/x-python",
   "name": "python",
   "nbconvert_exporter": "python",
   "pygments_lexer": "ipython3",
   "version": "3.7.3"
  }
 },
 "nbformat": 4,
 "nbformat_minor": 2
}
